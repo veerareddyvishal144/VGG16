{
  "nbformat": 4,
  "nbformat_minor": 0,
  "metadata": {
    "colab": {
      "name": "CIFAR10.ipynb",
      "version": "0.3.2",
      "provenance": [],
      "include_colab_link": true
    },
    "kernelspec": {
      "name": "python3",
      "display_name": "Python 3"
    }
  },
  "cells": [
    {
      "cell_type": "markdown",
      "metadata": {
        "id": "view-in-github",
        "colab_type": "text"
      },
      "source": [
        "<a href=\"https://colab.research.google.com/github/vishalveerareddy/VGG16/blob/master/CIFAR10.ipynb\" target=\"_parent\"><img src=\"https://colab.research.google.com/assets/colab-badge.svg\" alt=\"Open In Colab\"/></a>"
      ]
    },
    {
      "cell_type": "code",
      "metadata": {
        "id": "byHlKyqtDDwO",
        "colab_type": "code",
        "colab": {}
      },
      "source": [
        "from __future__ import print_function\n",
        "import keras\n",
        "from keras.datasets import cifar10\n",
        "from keras.preprocessing.image import ImageDataGenerator\n",
        "from keras.models import Sequential\n",
        "from keras.layers import Dense, Dropout, Activation, Flatten\n",
        "from keras.layers import Conv2D, MaxPooling2D\n",
        "import os\n",
        "\n"
      ],
      "execution_count": 0,
      "outputs": []
    },
    {
      "cell_type": "code",
      "metadata": {
        "id": "rlkvHIUaDKX1",
        "colab_type": "code",
        "colab": {}
      },
      "source": [
        "batch_size = 32\n",
        "num_classes = 10\n",
        "epochs = 200\n",
        "data_augmentation = True\n",
        "num_predictions = 20\n",
        "save_dir = os.path.join(os.getcwd(), 'saved_models')\n",
        "model_name = 'keras_cifar10_trained_model.h5'\n",
        "\n",
        "\n"
      ],
      "execution_count": 0,
      "outputs": []
    },
    {
      "cell_type": "code",
      "metadata": {
        "id": "ze_iXMi2ESaC",
        "colab_type": "code",
        "outputId": "462eeed4-8861-47aa-d74d-abab3de20bcf",
        "colab": {
          "base_uri": "https://localhost:8080/",
          "height": 68
        }
      },
      "source": [
        "# The data, split between train and test sets:\n",
        "(x_train, y_train), (x_test, y_test) = cifar10.load_data()\n",
        "print('x_train shape:', x_train.shape)\n",
        "print(x_train.shape[0], 'train samples')\n",
        "print(x_test.shape[0], 'test samples')\n",
        "\n",
        "\n",
        "\n"
      ],
      "execution_count": 21,
      "outputs": [
        {
          "output_type": "stream",
          "text": [
            "x_train shape: (50000, 32, 32, 3)\n",
            "50000 train samples\n",
            "10000 test samples\n"
          ],
          "name": "stdout"
        }
      ]
    },
    {
      "cell_type": "code",
      "metadata": {
        "id": "UPhWRwN1d_5s",
        "colab_type": "code",
        "colab": {
          "base_uri": "https://localhost:8080/",
          "height": 187
        },
        "outputId": "c5c80597-313b-46de-db70-f58476b98ab9"
      },
      "source": [
        "# Convert class vectors to binary class matrices.\n",
        "#y1_test=y_test.copy()\n",
        "y_train = keras.utils.to_categorical(y_train, num_classes)\n",
        "y_test = keras.utils.to_categorical(y_test, num_classes)\n",
        "print(y1_test[0])\n",
        "\n"
      ],
      "execution_count": 22,
      "outputs": [
        {
          "output_type": "stream",
          "text": [
            "[[1. 0. 0. 0. 0. 0. 0. 0. 0. 0.]\n",
            " [1. 0. 0. 0. 0. 0. 0. 0. 0. 0.]\n",
            " [1. 0. 0. 0. 0. 0. 0. 0. 0. 0.]\n",
            " [0. 1. 0. 0. 0. 0. 0. 0. 0. 0.]\n",
            " [1. 0. 0. 0. 0. 0. 0. 0. 0. 0.]\n",
            " [1. 0. 0. 0. 0. 0. 0. 0. 0. 0.]\n",
            " [1. 0. 0. 0. 0. 0. 0. 0. 0. 0.]\n",
            " [1. 0. 0. 0. 0. 0. 0. 0. 0. 0.]\n",
            " [1. 0. 0. 0. 0. 0. 0. 0. 0. 0.]\n",
            " [1. 0. 0. 0. 0. 0. 0. 0. 0. 0.]]\n"
          ],
          "name": "stdout"
        }
      ]
    },
    {
      "cell_type": "code",
      "metadata": {
        "id": "hIk7sO9oeB5d",
        "colab_type": "code",
        "colab": {}
      },
      "source": [
        "model = Sequential()\n",
        "model.add(Conv2D(32, (3, 3), padding='same',\n",
        "                 input_shape=x_train.shape[1:]))\n",
        "model.add(Activation('relu'))\n",
        "model.add(Conv2D(32, (3, 3)))\n",
        "model.add(Activation('relu'))\n",
        "model.add(MaxPooling2D(pool_size=(2, 2)))\n",
        "model.add(Dropout(0.25))\n",
        "\n",
        "model.add(Conv2D(64, (3, 3), padding='same'))\n",
        "model.add(Activation('relu'))\n",
        "model.add(Conv2D(64, (3, 3)))\n",
        "model.add(Activation('relu'))\n",
        "model.add(MaxPooling2D(pool_size=(2, 2)))\n",
        "model.add(Dropout(0.25))\n",
        "\n",
        "model.add(Flatten())\n",
        "model.add(Dense(512))\n",
        "model.add(Activation('relu'))\n",
        "model.add(Dropout(0.5))\n",
        "model.add(Dense(num_classes))\n",
        "model.add(Activation('softmax'))"
      ],
      "execution_count": 0,
      "outputs": []
    },
    {
      "cell_type": "code",
      "metadata": {
        "id": "-UaVMKUbEW25",
        "colab_type": "code",
        "colab": {}
      },
      "source": [
        "# initiate RMSprop optimizer\n",
        "opt = keras.optimizers.rmsprop(lr=0.0001, decay=1e-6)\n",
        "\n",
        "# Let's train the model using RMSprop\n",
        "model.compile(loss='categorical_crossentropy',\n",
        "              optimizer=opt,\n",
        "              metrics=['accuracy'])\n",
        "\n",
        "x_train = x_train.astype('float32')\n",
        "x_test = x_test.astype('float32')\n",
        "x_train /= 255\n",
        "x_test /= 255\n",
        "\n"
      ],
      "execution_count": 0,
      "outputs": []
    },
    {
      "cell_type": "code",
      "metadata": {
        "id": "puml1o83Ea4u",
        "colab_type": "code",
        "outputId": "217f36a8-2d9a-43e2-8c28-601588ef6a22",
        "colab": {
          "base_uri": "https://localhost:8080/",
          "height": 1000
        }
      },
      "source": [
        "if not data_augmentation:\n",
        "    print('Not using data augmentation.')\n",
        "    model.fit(x_train, y_train,\n",
        "              batch_size=batch_size,\n",
        "              epochs=epochs,\n",
        "              validation_data=(x_test, y_test),\n",
        "              shuffle=True)\n",
        "else:\n",
        "    print('Using real-time data augmentation.')\n",
        "    # This will do preprocessing and realtime data augmentation:\n",
        "    datagen = ImageDataGenerator(\n",
        "        featurewise_center=False,  # set input mean to 0 over the dataset\n",
        "        samplewise_center=False,  # set each sample mean to 0\n",
        "        featurewise_std_normalization=False,  # divide inputs by std of the dataset\n",
        "        samplewise_std_normalization=False,  # divide each input by its std\n",
        "        zca_whitening=False,  # apply ZCA whitening\n",
        "        zca_epsilon=1e-06,  # epsilon for ZCA whitening\n",
        "        rotation_range=0,  # randomly rotate images in the range (degrees, 0 to 180)\n",
        "        # randomly shift images horizontally (fraction of total width)\n",
        "        width_shift_range=0.1,\n",
        "        # randomly shift images vertically (fraction of total height)\n",
        "        height_shift_range=0.1,\n",
        "        shear_range=0.,  # set range for random shear\n",
        "        zoom_range=0.,  # set range for random zoom\n",
        "        channel_shift_range=0.,  # set range for random channel shifts\n",
        "        # set mode for filling points outside the input boundaries\n",
        "        fill_mode='nearest',\n",
        "        cval=0.,  # value used for fill_mode = \"constant\"\n",
        "        horizontal_flip=True,  # randomly flip images\n",
        "        vertical_flip=False,  # randomly flip images\n",
        "        # set rescaling factor (applied before any other transformation)\n",
        "        rescale=None,\n",
        "        # set function that will be applied on each input\n",
        "        preprocessing_function=None,\n",
        "        # image data format, either \"channels_first\" or \"channels_last\"\n",
        "        data_format=None,\n",
        "        # fraction of images reserved for validation (strictly between 0 and 1)\n",
        "        validation_split=0.0)\n",
        "\n",
        "    # Compute quantities required for feature-wise normalization\n",
        "    # (std, mean, and principal components if ZCA whitening is applied).\n",
        "    datagen.fit(x_train)\n",
        "\n",
        "    # Fit the model on the batches generated by datagen.flow().\n",
        "    model.fit_generator(datagen.flow(x_train, y_train,\n",
        "                                     batch_size=batch_size),\n",
        "                        epochs=30,\n",
        "                        validation_data=(x_test, y_test),steps_per_epoch=25)\n",
        "\n"
      ],
      "execution_count": 25,
      "outputs": [
        {
          "output_type": "stream",
          "text": [
            "Using real-time data augmentation.\n",
            "Epoch 1/30\n",
            "25/25 [==============================] - 17s 683ms/step - loss: 2.3012 - acc: 0.1150 - val_loss: 2.2977 - val_acc: 0.1062\n",
            "Epoch 2/30\n",
            "25/25 [==============================] - 16s 627ms/step - loss: 2.2969 - acc: 0.1175 - val_loss: 2.2898 - val_acc: 0.1367\n",
            "Epoch 3/30\n",
            "25/25 [==============================] - 15s 611ms/step - loss: 2.2887 - acc: 0.1113 - val_loss: 2.2732 - val_acc: 0.1643\n",
            "Epoch 4/30\n",
            "25/25 [==============================] - 16s 630ms/step - loss: 2.2620 - acc: 0.1575 - val_loss: 2.2434 - val_acc: 0.1962\n",
            "Epoch 5/30\n",
            "25/25 [==============================] - 16s 624ms/step - loss: 2.2120 - acc: 0.1712 - val_loss: 2.1935 - val_acc: 0.2325\n",
            "Epoch 6/30\n",
            "25/25 [==============================] - 15s 610ms/step - loss: 2.1716 - acc: 0.2088 - val_loss: 2.1288 - val_acc: 0.2280\n",
            "Epoch 7/30\n",
            "25/25 [==============================] - 15s 615ms/step - loss: 2.1010 - acc: 0.2062 - val_loss: 2.0921 - val_acc: 0.2314\n",
            "Epoch 8/30\n",
            "25/25 [==============================] - 16s 628ms/step - loss: 2.1204 - acc: 0.2075 - val_loss: 2.0727 - val_acc: 0.2382\n",
            "Epoch 9/30\n",
            "25/25 [==============================] - 16s 628ms/step - loss: 2.0590 - acc: 0.2538 - val_loss: 2.0371 - val_acc: 0.2441\n",
            "Epoch 10/30\n",
            "25/25 [==============================] - 15s 619ms/step - loss: 2.0989 - acc: 0.1950 - val_loss: 2.0293 - val_acc: 0.2720\n",
            "Epoch 11/30\n",
            "25/25 [==============================] - 15s 619ms/step - loss: 2.0614 - acc: 0.2450 - val_loss: 2.0344 - val_acc: 0.2618\n",
            "Epoch 12/30\n",
            "25/25 [==============================] - 15s 616ms/step - loss: 2.0467 - acc: 0.2650 - val_loss: 2.0060 - val_acc: 0.2803\n",
            "Epoch 13/30\n",
            "25/25 [==============================] - 15s 612ms/step - loss: 2.0282 - acc: 0.2263 - val_loss: 1.9918 - val_acc: 0.2670\n",
            "Epoch 14/30\n",
            "25/25 [==============================] - 15s 608ms/step - loss: 2.0348 - acc: 0.2587 - val_loss: 2.0243 - val_acc: 0.2599\n",
            "Epoch 15/30\n",
            "25/25 [==============================] - 15s 603ms/step - loss: 2.0142 - acc: 0.2637 - val_loss: 1.9884 - val_acc: 0.2624\n",
            "Epoch 16/30\n",
            "25/25 [==============================] - 16s 623ms/step - loss: 2.0405 - acc: 0.2425 - val_loss: 1.9649 - val_acc: 0.2852\n",
            "Epoch 17/30\n",
            "25/25 [==============================] - 15s 610ms/step - loss: 1.9895 - acc: 0.2500 - val_loss: 1.9386 - val_acc: 0.3213\n",
            "Epoch 18/30\n",
            "25/25 [==============================] - 15s 614ms/step - loss: 1.9903 - acc: 0.2800 - val_loss: 1.9189 - val_acc: 0.3269\n",
            "Epoch 19/30\n",
            "25/25 [==============================] - 15s 603ms/step - loss: 1.9551 - acc: 0.2825 - val_loss: 1.9326 - val_acc: 0.3175\n",
            "Epoch 20/30\n",
            "25/25 [==============================] - 16s 635ms/step - loss: 1.9818 - acc: 0.2850 - val_loss: 1.9278 - val_acc: 0.3086\n",
            "Epoch 21/30\n",
            "25/25 [==============================] - 16s 630ms/step - loss: 1.9439 - acc: 0.2812 - val_loss: 1.8819 - val_acc: 0.3261\n",
            "Epoch 22/30\n",
            "25/25 [==============================] - 15s 613ms/step - loss: 1.9200 - acc: 0.2925 - val_loss: 1.8630 - val_acc: 0.3407\n",
            "Epoch 23/30\n",
            "25/25 [==============================] - 16s 635ms/step - loss: 1.9126 - acc: 0.3163 - val_loss: 1.8576 - val_acc: 0.3485\n",
            "Epoch 24/30\n",
            "25/25 [==============================] - 15s 615ms/step - loss: 1.9189 - acc: 0.2938 - val_loss: 1.8447 - val_acc: 0.3457\n",
            "Epoch 25/30\n",
            "25/25 [==============================] - 15s 613ms/step - loss: 1.9199 - acc: 0.3087 - val_loss: 1.8170 - val_acc: 0.3533\n",
            "Epoch 26/30\n",
            "25/25 [==============================] - 16s 626ms/step - loss: 1.8883 - acc: 0.3212 - val_loss: 1.7794 - val_acc: 0.3780\n",
            "Epoch 27/30\n",
            "25/25 [==============================] - 15s 615ms/step - loss: 1.9186 - acc: 0.2863 - val_loss: 1.7872 - val_acc: 0.3720\n",
            "Epoch 28/30\n",
            "25/25 [==============================] - 16s 624ms/step - loss: 1.8286 - acc: 0.3225 - val_loss: 1.7626 - val_acc: 0.3730\n",
            "Epoch 29/30\n",
            "25/25 [==============================] - 16s 630ms/step - loss: 1.8529 - acc: 0.3337 - val_loss: 1.8062 - val_acc: 0.3611\n",
            "Epoch 30/30\n",
            "25/25 [==============================] - 16s 640ms/step - loss: 1.8611 - acc: 0.3375 - val_loss: 1.7427 - val_acc: 0.3843\n"
          ],
          "name": "stdout"
        }
      ]
    },
    {
      "cell_type": "code",
      "metadata": {
        "id": "MJ9y1NIpEef8",
        "colab_type": "code",
        "outputId": "bc7cb18a-3376-4f78-f658-13e2279da919",
        "colab": {
          "base_uri": "https://localhost:8080/",
          "height": 85
        }
      },
      "source": [
        "# Save model and weights\n",
        "if not os.path.isdir(save_dir):\n",
        "    os.makedirs(save_dir)\n",
        "model_path = os.path.join(save_dir, model_name)\n",
        "model.save(model_path)\n",
        "print('Saved trained model at %s ' % model_path)\n",
        "\n",
        "# Score trained model.\n",
        "scores = model.evaluate(x_test, y_test, verbose=1)\n",
        "print('Test loss:', scores[0])\n",
        "print('Test accuracy:', scores[1])"
      ],
      "execution_count": 26,
      "outputs": [
        {
          "output_type": "stream",
          "text": [
            "Saved trained model at /content/saved_models/keras_cifar10_trained_model.h5 \n",
            "10000/10000 [==============================] - 12s 1ms/step\n",
            "Test loss: 1.7427364456176757\n",
            "Test accuracy: 0.3843\n"
          ],
          "name": "stdout"
        }
      ]
    },
    {
      "cell_type": "code",
      "metadata": {
        "id": "zXFcEh2yPiXg",
        "colab_type": "code",
        "colab": {}
      },
      "source": [
        "import matplotlib.pyplot as plt\n",
        "\n",
        "a=model.predict(x_test[1].reshape(-1,32,32,3))\n"
      ],
      "execution_count": 0,
      "outputs": []
    },
    {
      "cell_type": "code",
      "metadata": {
        "id": "ihu8Ovz5Pqa2",
        "colab_type": "code",
        "outputId": "20edf639-1643-42b6-fbc2-b7004ef60665",
        "colab": {
          "base_uri": "https://localhost:8080/",
          "height": 286
        }
      },
      "source": [
        "plt.imshow(x_test[1])"
      ],
      "execution_count": 63,
      "outputs": [
        {
          "output_type": "execute_result",
          "data": {
            "text/plain": [
              "<matplotlib.image.AxesImage at 0x7f1c4960ca90>"
            ]
          },
          "metadata": {
            "tags": []
          },
          "execution_count": 63
        },
        {
          "output_type": "display_data",
          "data": {
            "image/png": "[encoded data removed]",
            "text/plain": [
              "<Figure size 432x288 with 1 Axes>"
            ]
          },
          "metadata": {
            "tags": []
          }
        }
      ]
    },
    {
      "cell_type": "code",
      "metadata": {
        "id": "UApMQdv7Suma",
        "colab_type": "code",
        "outputId": "4c6dc4f1-12e3-469b-bdde-cd842870bc3a",
        "colab": {
          "base_uri": "https://localhost:8080/",
          "height": 68
        }
      },
      "source": [
        "a=a.reshape(10,)\n",
        "a"
      ],
      "execution_count": 70,
      "outputs": [
        {
          "output_type": "execute_result",
          "data": {
            "text/plain": [
              "array([0.185373  , 0.3186662 , 0.02755018, 0.00761311, 0.00901073,\n",
              "       0.00489143, 0.00476707, 0.01120929, 0.26342064, 0.16749842],\n",
              "      dtype=float32)"
            ]
          },
          "metadata": {
            "tags": []
          },
          "execution_count": 70
        }
      ]
    },
    {
      "cell_type": "code",
      "metadata": {
        "id": "o3PTDNpVTnpd",
        "colab_type": "code",
        "outputId": "b39ad6c9-f0fd-48d8-8048-0ca0f6c612d6",
        "colab": {
          "base_uri": "https://localhost:8080/",
          "height": 34
        }
      },
      "source": [
        "y_test[1]"
      ],
      "execution_count": 65,
      "outputs": [
        {
          "output_type": "execute_result",
          "data": {
            "text/plain": [
              "array([0., 0., 0., 0., 0., 0., 0., 0., 1., 0.], dtype=float32)"
            ]
          },
          "metadata": {
            "tags": []
          },
          "execution_count": 65
        }
      ]
    },
    {
      "cell_type": "code",
      "metadata": {
        "id": "M0V-gqd6ifDj",
        "colab_type": "code",
        "colab": {
          "base_uri": "https://localhost:8080/",
          "height": 54
        },
        "outputId": "0aa52ca1-0d12-4477-f34f-a4c27a4008a7"
      },
      "source": [
        ""
      ],
      "execution_count": 66,
      "outputs": [
        {
          "output_type": "execute_result",
          "data": {
            "text/plain": [
              "'airplane\\t\\t\\t\\t\\t\\t\\t\\t\\t\\t\\nautomobile\\t\\t\\t\\t\\t\\t\\t\\t\\t\\t\\nbird\\t\\t\\t\\t\\t\\t\\t\\t\\t\\t\\ncat\\t\\t\\t\\t\\t\\t\\t\\t\\t\\t\\ndeer\\t\\t\\t\\t\\t\\t\\t\\t\\t\\t\\ndog\\t\\t\\t\\t\\t\\t\\t\\t\\t\\t\\nfrog\\t\\t\\t\\t\\t\\t\\t\\t\\t\\t\\nhorse\\t\\t\\t\\t\\t\\t\\t\\t\\t\\t\\nship\\t\\t\\t\\t\\t\\t\\t\\t\\t\\t\\ntruck'"
            ]
          },
          "metadata": {
            "tags": []
          },
          "execution_count": 66
        }
      ]
    },
    {
      "cell_type": "code",
      "metadata": {
        "id": "a0rpJV6E24J8",
        "colab_type": "code",
        "colab": {}
      },
      "source": [
        "import numpy as np\n",
        "def predict1(a,b):\n",
        "  \"\"\"a is the predict array while b is the test array\"\"\"\n",
        "  max_val=np.amax(a)\n",
        "  max_index=np.argmax(a)\n",
        "  real_val=np.amax(b)\n",
        "  real_index=np.argmax(real_val)\n",
        "  item_list=[\"airplane\",\"automobile\",\"bird\",\"cat\",\"deer\",\"dog\",\"frog\",\"horse\",\"ship\",\"truck\"]\n",
        "  return (item_list[max_index],item_list[real_index])"
      ],
      "execution_count": 0,
      "outputs": []
    },
    {
      "cell_type": "code",
      "metadata": {
        "id": "9n82MwQp3TnX",
        "colab_type": "code",
        "colab": {
          "base_uri": "https://localhost:8080/",
          "height": 34
        },
        "outputId": "892ca95b-bf7d-4f01-918e-94b0a28a6dd2"
      },
      "source": [
        "predict1(a,y_test[1])"
      ],
      "execution_count": 75,
      "outputs": [
        {
          "output_type": "execute_result",
          "data": {
            "text/plain": [
              "('automobile', 'airplane')"
            ]
          },
          "metadata": {
            "tags": []
          },
          "execution_count": 75
        }
      ]
    },
    {
      "cell_type": "code",
      "metadata": {
        "id": "evdSoJWZ5l3e",
        "colab_type": "code",
        "colab": {
          "base_uri": "https://localhost:8080/",
          "height": 51
        },
        "outputId": "c2d02d58-9b95-4907-a03b-e142f205f67b"
      },
      "source": [
        "model.evaluate(x_test,y_test)"
      ],
      "execution_count": 76,
      "outputs": [
        {
          "output_type": "stream",
          "text": [
            "10000/10000 [==============================] - 13s 1ms/step\n"
          ],
          "name": "stdout"
        },
        {
          "output_type": "execute_result",
          "data": {
            "text/plain": [
              "[1.7427364456176757, 0.3843]"
            ]
          },
          "metadata": {
            "tags": []
          },
          "execution_count": 76
        }
      ]
    },
    {
      "cell_type": "code",
      "metadata": {
        "id": "2Rw_u0UfIEwm",
        "colab_type": "code",
        "colab": {}
      },
      "source": [
        ""
      ],
      "execution_count": 0,
      "outputs": []
    }
  ]
}