{
  "nbformat": 4,
  "nbformat_minor": 0,
  "metadata": {
    "colab": {
      "name": "CIFAR10.ipynb",
      "version": "0.3.2",
      "provenance": [],
      "include_colab_link": true
    },
    "kernelspec": {
      "name": "python3",
      "display_name": "Python 3"
    },
    "accelerator": "TPU"
  },
  "cells": [
    {
      "cell_type": "markdown",
      "metadata": {
        "id": "view-in-github",
        "colab_type": "text"
      },
      "source": [
        "<a href=\"https://colab.research.google.com/github/vishalveerareddy/VGG16/blob/master/CIFAR10.ipynb\" target=\"_parent\"><img src=\"https://colab.research.google.com/assets/colab-badge.svg\" alt=\"Open In Colab\"/></a>"
      ]
    },
    {
      "cell_type": "code",
      "metadata": {
        "id": "OyPRqzZ5TOy8",
        "colab_type": "code",
        "colab": {}
      },
      "source": [
        "import os\n",
        "import _pickle as pickle\n",
        "import numpy as np\n",
        "\n",
        "import keras\n",
        "from keras.datasets import cifar10\n",
        "from keras.preprocessing.image import ImageDataGenerator\n",
        "from keras.models import Sequential, load_model\n",
        "from keras.layers import Dense, Dropout, Activation, Flatten\n",
        "from keras.layers import Conv2D, MaxPooling2D\n",
        "from keras.utils import plot_model\n",
        "\n",
        "\n",
        "## Parameters\n",
        "num_classes = 10\n",
        "num_epochs = 20\n",
        "num_predictions = 10\n",
        "save_dir = os.path.join(os.getcwd(), 'model')\n",
        "model_name = 'cifar10_deepcnn.h5'\n",
        "\n",
        "## Hyper-parameters\n",
        "batch_size = 32\n",
        "\n",
        "\n"
      ],
      "execution_count": 0,
      "outputs": []
    },
    {
      "cell_type": "code",
      "metadata": {
        "id": "wUV3WareTSGT",
        "colab_type": "code",
        "colab": {
          "base_uri": "https://localhost:8080/",
          "height": 1000
        },
        "outputId": "e80e7263-d49a-4583-f7c2-9efed07ab41f"
      },
      "source": [
        "if __name__ == \"__main__\":\n",
        "    ## Getting data\n",
        "    (x_train, y_train), (x_test, y_test) = cifar10.load_data()\n",
        "    # Convert class vectors to binary class matrices (one-hot vectors)\n",
        "    y_train = keras.utils.to_categorical(y_train, num_classes)\n",
        "    y_test = keras.utils.to_categorical(y_test, num_classes)\n",
        "\n",
        "    ## Load model if existed\n",
        "    if not os.path.isdir(save_dir):\n",
        "        os.makedirs(save_dir)\n",
        "    model_path = os.path.join(save_dir, model_name)\n",
        "\n",
        "    if os.path.exists(model_path):\n",
        "        print(\"Load pre-trained model %s\" % model_path)\n",
        "        model = load_model(model_path)\n",
        "    else:\n",
        "        ## else, build model\n",
        "        model = Sequential()\n",
        "        model.add(Conv2D(32, (3, 3), padding='same', input_shape=x_train.shape[1:]))\n",
        "        model.add(Activation('relu'))\n",
        "        model.add(Conv2D(32, (3, 3)))\n",
        "        model.add(MaxPooling2D(pool_size=(2, 2)))\n",
        "        model.add(Dropout(0.25))\n",
        "\n",
        "        model.add(Flatten())\n",
        "        model.add(Dense(512))\n",
        "        model.add(Activation('relu'))\n",
        "        model.add(Dropout(0.5))\n",
        "        model.add(Dense(num_classes))\n",
        "        model.add(Activation('softmax'))\n",
        "\n",
        "        # optimizer\n",
        "        opt = keras.optimizers.rmsprop(lr=1e-4, decay=1e-6)\n",
        "\n",
        "        model.compile(loss='categorical_crossentropy',\n",
        "                      optimizer=opt,\n",
        "                      metrics=['accuracy'])\n",
        "\n",
        "        x_train = x_train.astype('float32')\n",
        "        x_test = x_test.astype('float32')\n",
        "        x_train /= 255\n",
        "        y_train /= 255\n",
        "\n",
        "        ## Data augumentation\n",
        "        datagen = ImageDataGenerator(\n",
        "            featurewise_center=False,  # set input mean to 0 over the dataset\n",
        "            samplewise_center=False,  # set each sample mean to 0\n",
        "            featurewise_std_normalization=False,  # divide inputs by std of the dataset\n",
        "            samplewise_std_normalization=False,  # divide each input by its std\n",
        "            zca_whitening=False,  # apply ZCA whitening\n",
        "            rotation_range=0,  # randomly rotate images in the range (degrees, 0 to 180)\n",
        "            width_shift_range=0.1,  # randomly shift images horizontally (fraction of total width)\n",
        "            height_shift_range=0.1,  # randomly shift images vertically (fraction of total height)\n",
        "            horizontal_flip=True,  # randomly flip images\n",
        "            vertical_flip=False  # randomly flip images\n",
        "        )\n",
        "        datagen.fit(x_train)\n",
        "\n",
        "        ## Let's train\n",
        "        model.fit_generator(datagen.flow(x_train, y_train, batch_size=batch_size),\n",
        "                            steps_per_epoch=x_train.shape[0] // batch_size,\n",
        "                            epochs=num_epochs,\n",
        "                            validation_data=(x_test, y_test))\n",
        "\n",
        "        ## Save model\n",
        "        model.save(model_path)\n",
        "        plot_model(model, to_file='cifar10_deepcnn.jpg')\n",
        "        print(\"Save model at %s\" % model_path)\n",
        "\n",
        "    ## Evaluate\n",
        "    # load label names to use in prediction results\n",
        "    label_list_path = 'datasets/cifar-10-batches-py/batches.meta'\n",
        "\n",
        "    keras_dir = os.path.expanduser(os.path.join('~', '.keras'))\n",
        "    datadir_base = os.path.expanduser(keras_dir)\n",
        "    if not os.access(datadir_base, os.W_OK):\n",
        "        datadir_base = os.spath.join('/tmp', '.keras')\n",
        "    label_list_path = os.path.join(datadir_base, label_list_path)\n",
        "\n",
        "    with open(label_list_path, mode='rb') as f:\n",
        "        labels = pickle.load(f)\n",
        "    print(\"Load label names %s\" % label_list_path)\n",
        "\n",
        "    # Evaluate with test dataset and share same prediction results\n",
        "    evaluation = model.evaluate_generator(datagen.flow(x_test, y_test, batch_size=batch_size),\n",
        "                                          steps=x_test.shape[0] // batch_size)\n",
        "    print('Model accuracy = %.2f' % evaluation[1])\n",
        "\n",
        "    predict_gen = model.predict_generator(datagen.flow(x_test, y_test, batch_size=batch_size),\n",
        "                                          steps=x_test.shape[0] // batch_size)\n",
        "    for predict_index, predicted_y in enumerate(predict_gen):\n",
        "        actual_label = labels['label_names'][np.argmax(y_test[predict_index])]\n",
        "        predicted_label = labels['label_names'][np.argmax(predicted_y)]\n",
        "        print('Actual label = %s vs. Predicted label = %s' % (actual_label, predicted_label))\n",
        "\n",
        "        if predict_index == num_predictions:\n",
        "            break"
      ],
      "execution_count": 3,
      "outputs": [
        {
          "output_type": "stream",
          "text": [
            "Downloading data from https://www.cs.toronto.edu/~kriz/cifar-10-python.tar.gz\n",
            "170500096/170498071 [==============================] - 2s 0us/step\n"
          ],
          "name": "stdout"
        },
        {
          "output_type": "stream",
          "text": [
            "WARNING: Logging before flag parsing goes to stderr.\n",
            "W0803 16:34:51.181890 139622331996032 deprecation_wrapper.py:119] From /usr/local/lib/python3.6/dist-packages/keras/backend/tensorflow_backend.py:74: The name tf.get_default_graph is deprecated. Please use tf.compat.v1.get_default_graph instead.\n",
            "\n",
            "W0803 16:34:51.533830 139622331996032 deprecation_wrapper.py:119] From /usr/local/lib/python3.6/dist-packages/keras/backend/tensorflow_backend.py:517: The name tf.placeholder is deprecated. Please use tf.compat.v1.placeholder instead.\n",
            "\n",
            "W0803 16:34:51.542321 139622331996032 deprecation_wrapper.py:119] From /usr/local/lib/python3.6/dist-packages/keras/backend/tensorflow_backend.py:4138: The name tf.random_uniform is deprecated. Please use tf.random.uniform instead.\n",
            "\n",
            "W0803 16:34:51.606934 139622331996032 deprecation_wrapper.py:119] From /usr/local/lib/python3.6/dist-packages/keras/backend/tensorflow_backend.py:3976: The name tf.nn.max_pool is deprecated. Please use tf.nn.max_pool2d instead.\n",
            "\n",
            "W0803 16:34:51.611816 139622331996032 deprecation_wrapper.py:119] From /usr/local/lib/python3.6/dist-packages/keras/backend/tensorflow_backend.py:133: The name tf.placeholder_with_default is deprecated. Please use tf.compat.v1.placeholder_with_default instead.\n",
            "\n",
            "W0803 16:34:51.625498 139622331996032 deprecation.py:506] From /usr/local/lib/python3.6/dist-packages/keras/backend/tensorflow_backend.py:3445: calling dropout (from tensorflow.python.ops.nn_ops) with keep_prob is deprecated and will be removed in a future version.\n",
            "Instructions for updating:\n",
            "Please use `rate` instead of `keep_prob`. Rate should be set to `rate = 1 - keep_prob`.\n",
            "W0803 16:34:51.715816 139622331996032 deprecation_wrapper.py:119] From /usr/local/lib/python3.6/dist-packages/keras/optimizers.py:790: The name tf.train.Optimizer is deprecated. Please use tf.compat.v1.train.Optimizer instead.\n",
            "\n",
            "W0803 16:34:51.727268 139622331996032 deprecation_wrapper.py:119] From /usr/local/lib/python3.6/dist-packages/keras/backend/tensorflow_backend.py:3295: The name tf.log is deprecated. Please use tf.math.log instead.\n",
            "\n",
            "W0803 16:34:53.037189 139622331996032 deprecation.py:323] From /usr/local/lib/python3.6/dist-packages/tensorflow/python/ops/math_grad.py:1250: add_dispatch_support.<locals>.wrapper (from tensorflow.python.ops.array_ops) is deprecated and will be removed in a future version.\n",
            "Instructions for updating:\n",
            "Use tf.where in 2.0, which has the same broadcast rule as np.where\n"
          ],
          "name": "stderr"
        },
        {
          "output_type": "stream",
          "text": [
            "Epoch 1/20\n",
            "1562/1562 [==============================] - 249s 160ms/step - loss: 0.0068 - acc: 0.3806 - val_loss: 9.7378 - val_acc: 0.3878\n",
            "Epoch 2/20\n",
            "1562/1562 [==============================] - 247s 158ms/step - loss: 0.0059 - acc: 0.4634 - val_loss: 9.8293 - val_acc: 0.3834\n",
            "Epoch 3/20\n",
            "1562/1562 [==============================] - 247s 158ms/step - loss: 0.0055 - acc: 0.4992 - val_loss: 8.9363 - val_acc: 0.4394\n",
            "Epoch 4/20\n",
            "1562/1562 [==============================] - 246s 158ms/step - loss: 0.0052 - acc: 0.5263 - val_loss: 9.5695 - val_acc: 0.4012\n",
            "Epoch 5/20\n",
            "1562/1562 [==============================] - 246s 157ms/step - loss: 0.0050 - acc: 0.5466 - val_loss: 9.2787 - val_acc: 0.4187\n",
            "Epoch 6/20\n",
            "1562/1562 [==============================] - 243s 156ms/step - loss: 0.0049 - acc: 0.5620 - val_loss: 9.8351 - val_acc: 0.3846\n",
            "Epoch 7/20\n",
            "1562/1562 [==============================] - 246s 157ms/step - loss: 0.0047 - acc: 0.5765 - val_loss: 9.0726 - val_acc: 0.4321\n",
            "Epoch 8/20\n",
            "1562/1562 [==============================] - 244s 156ms/step - loss: 0.0046 - acc: 0.5851 - val_loss: 8.7693 - val_acc: 0.4511\n",
            "Epoch 9/20\n",
            "1562/1562 [==============================] - 244s 156ms/step - loss: 0.0045 - acc: 0.5924 - val_loss: 9.0530 - val_acc: 0.4337\n",
            "Epoch 10/20\n",
            "1562/1562 [==============================] - 246s 157ms/step - loss: 0.0044 - acc: 0.6048 - val_loss: 8.6312 - val_acc: 0.4605\n",
            "Epoch 11/20\n",
            "1562/1562 [==============================] - 253s 162ms/step - loss: 0.0043 - acc: 0.6138 - val_loss: 8.6135 - val_acc: 0.4617\n",
            "Epoch 12/20\n",
            "1562/1562 [==============================] - 249s 159ms/step - loss: 0.0043 - acc: 0.6160 - val_loss: 8.1063 - val_acc: 0.4915\n",
            "Epoch 13/20\n",
            "1562/1562 [==============================] - 241s 154ms/step - loss: 0.0042 - acc: 0.6269 - val_loss: 7.5869 - val_acc: 0.5239\n",
            "Epoch 14/20\n",
            "1562/1562 [==============================] - 241s 155ms/step - loss: 0.0042 - acc: 0.6284 - val_loss: 7.7190 - val_acc: 0.5157\n",
            "Epoch 15/20\n",
            "1562/1562 [==============================] - 242s 155ms/step - loss: 0.0041 - acc: 0.6361 - val_loss: 7.5206 - val_acc: 0.5265\n",
            "Epoch 16/20\n",
            "1562/1562 [==============================] - 244s 156ms/step - loss: 0.0041 - acc: 0.6385 - val_loss: 7.7383 - val_acc: 0.5146\n",
            "Epoch 17/20\n",
            "1562/1562 [==============================] - 244s 156ms/step - loss: 0.0040 - acc: 0.6467 - val_loss: 7.9764 - val_acc: 0.5004\n",
            "Epoch 18/20\n",
            "1562/1562 [==============================] - 248s 159ms/step - loss: 0.0040 - acc: 0.6476 - val_loss: 8.6057 - val_acc: 0.4615\n",
            "Epoch 19/20\n",
            "1562/1562 [==============================] - 246s 157ms/step - loss: 0.0039 - acc: 0.6516 - val_loss: 7.7748 - val_acc: 0.5126\n",
            "Epoch 20/20\n",
            "1562/1562 [==============================] - 248s 159ms/step - loss: 0.0039 - acc: 0.6575 - val_loss: 7.4435 - val_acc: 0.5328\n",
            "Save model at /content/model/cifar10_deepcnn.h5\n",
            "Load label names /root/.keras/datasets/cifar-10-batches-py/batches.meta\n",
            "Model accuracy = 0.49\n",
            "Actual label = cat vs. Predicted label = ship\n",
            "Actual label = ship vs. Predicted label = truck\n",
            "Actual label = ship vs. Predicted label = cat\n",
            "Actual label = airplane vs. Predicted label = horse\n",
            "Actual label = frog vs. Predicted label = ship\n",
            "Actual label = frog vs. Predicted label = automobile\n",
            "Actual label = automobile vs. Predicted label = ship\n",
            "Actual label = frog vs. Predicted label = horse\n",
            "Actual label = cat vs. Predicted label = horse\n",
            "Actual label = automobile vs. Predicted label = automobile\n",
            "Actual label = airplane vs. Predicted label = airplane\n"
          ],
          "name": "stdout"
        }
      ]
    },
    {
      "cell_type": "code",
      "metadata": {
        "id": "paYRo10oVWG0",
        "colab_type": "code",
        "colab": {
          "base_uri": "https://localhost:8080/",
          "height": 51
        },
        "outputId": "f516960a-8139-45a5-dd95-9f36e75cbfe3"
      },
      "source": [
        "model.evaluate(x_test,y_test)"
      ],
      "execution_count": 4,
      "outputs": [
        {
          "output_type": "stream",
          "text": [
            "10000/10000 [==============================] - 10s 974us/step\n"
          ],
          "name": "stdout"
        },
        {
          "output_type": "execute_result",
          "data": {
            "text/plain": [
              "[7.443526116943359, 0.5328]"
            ]
          },
          "metadata": {
            "tags": []
          },
          "execution_count": 4
        }
      ]
    },
    {
      "cell_type": "code",
      "metadata": {
        "id": "j-KkH0eWs2Mx",
        "colab_type": "code",
        "colab": {}
      },
      "source": [
        ""
      ],
      "execution_count": 0,
      "outputs": []
    }
  ]
}